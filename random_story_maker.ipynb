{
 "cells": [
  {
   "cell_type": "code",
   "execution_count": 1,
   "metadata": {},
   "outputs": [],
   "source": [
    "import random"
   ]
  },
  {
   "cell_type": "code",
   "execution_count": 3,
   "metadata": {},
   "outputs": [],
   "source": [
    "enemy = random.choice ([\"chihuahua\", \"border collie\", \"wolf\"])\n",
    "father = random.choice ([\"John\", \"Mr.Pickles\", \"Hairyface\", \"Willy Wonka\", \"Steve\", \"Bob\"])\n",
    "enemyadj = [\"grimy\", \"muddy\", \"awful\", \"grotesque\", \"hideous\", \"adorable\", \"cute\"]\n",
    "intro1 = \"I was sitting on the edge of the rocky cliff beside my favourite tree.\"\n",
    "intro2 = \"Alone in the searing desert, I was wondering why I was leaning against a cactus.\"\n",
    "intro3 = \"Staring out my apartment window, I saw my reflection staring back at me.\"\n",
    "char1 = \"As I looked out into the distance, I thought about my past and all of the drama in it.\"\n",
    "char2 = \"I wondered if this was my destiny- trying to find happiness.\"\n",
    "char3 = \"I pulled out the photo of my long lost mother and where on earth she could be.\"\n",
    "prob1 = \"Suddenly I was covered from head to toe with darkness. I couldn't breathe or see. Everything went black...\"\n",
    "prob2 = \"All of a sudden a psychopathic \" + enemy + \" grinned at me,showing all his razor sharp teeth. Suddenly it started to claw at my face. From the loss of blood, I collapsed onto the tough ground...\"\n",
    "prob3 = \"I suddenly felt a sharp needle sink into my flesh. It was a tranquilizer. But before I knew it I started feeling really drowsy. Everything went black...\"\n",
    "sol1 = \"I forced my drowsy eyes open my eyes to see a bright light.\"\n",
    "sol2 = \"I forced my drowsy eyes open to find myself on the back of a massive dragon and a man in front of me.\"\n",
    "sol3 = \"I forced my drowsy eyes open to the sounds of a \" + random.choice(enemyadj) + \" \" +enemy + \" licking my face.\"\n",
    "end1 = \"A man came to my side with a knife. It was my father!\" + father + \"!\" \"'Go to sleep young one...'\"\n",
    "end2 = \"It was difficult to keep my eyes open as I stuggled to breathe. \"\n",
    "end3 = \"Out of nowhere, a duck wearing a deerstalker looked me in the eye and pointed a gun at me. 'Quack.' And that was the last thing I heard...\""
   ]
  },
  {
   "cell_type": "code",
   "execution_count": 5,
   "metadata": {},
   "outputs": [],
   "source": [
    "intros = [intro1, intro2, intro3]\n",
    "characters = [char1, char2, char3]\n",
    "problems = [prob1, prob2, prob3]\n",
    "solutions = [sol1, sol2, sol3]\n",
    "endings = [end1, end2, end3]"
   ]
  },
  {
   "cell_type": "code",
   "execution_count": 6,
   "metadata": {},
   "outputs": [
    {
     "name": "stdout",
     "output_type": "stream",
     "text": [
      "I was sitting on the edge of the rocky cliff beside my favourite tree.\n",
      "I pulled out the photo of my long lost mother and where on earth she could be.\n",
      "I suddenly felt a sharp needle sink into my flesh. It was a tranquilizer. But before I knew it I started feeling really drowsy. Everything went black...\n",
      "I forced my drowsy eyes open to the sounds of a grotesque chihuahua licking my face.\n",
      "It was difficult to keep my eyes open as I stuggled to breathe. \n"
     ]
    }
   ],
   "source": [
    "print (random.choice(intros)),\n",
    "print (random.choice(characters)),\n",
    "print (random.choice(problems)),\n",
    "print (random.choice(solutions)),\n",
    "print (random.choice(endings))"
   ]
  }
 ],
 "metadata": {
  "kernelspec": {
   "display_name": "Python 3",
   "language": "python",
   "name": "python3"
  },
  "language_info": {
   "codemirror_mode": {
    "name": "ipython",
    "version": 3
   },
   "file_extension": ".py",
   "mimetype": "text/x-python",
   "name": "python",
   "nbconvert_exporter": "python",
   "pygments_lexer": "ipython3",
   "version": "3.7.6"
  }
 },
 "nbformat": 4,
 "nbformat_minor": 4
}
